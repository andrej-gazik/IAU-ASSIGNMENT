{
 "cells": [
  {
   "cell_type": "code",
   "execution_count": 1,
   "id": "fc8e1c5c-fd20-4413-b615-8e3d4226ee27",
   "metadata": {},
   "outputs": [],
   "source": [
    "import matplotlib.pyplot as plt\n",
    "import seaborn as sns\n",
    "import pandas as pd\n",
    "import numpy as np\n",
    "import scipy.stats as stats\n",
    "import statsmodels.api as sm\n",
    "import statsmodels.stats.api as sms\n",
    "import scipy.stats as stats\n",
    "from sklearn import preprocessing\n",
    "from datetime import datetime\n",
    "from datetime import date"
   ]
  },
  {
   "cell_type": "code",
   "execution_count": 8,
   "id": "d0308522-9971-446e-81db-74a9b84d731f",
   "metadata": {},
   "outputs": [],
   "source": [
    "# Load test and train from phase 2\n",
    "test = pd.read_csv('dataset/test.csv')\n",
    "train = pd.read_csv('dataset/train.csv')"
   ]
  },
  {
   "cell_type": "markdown",
   "id": "6e74c0ea-c566-4a73-b8e9-ded0eff20a49",
   "metadata": {},
   "source": [
    "# Fáza 3 - Strojové učenie\n"
   ]
  },
  {
   "cell_type": "markdown",
   "id": "8dde95a7-32d8-4df1-98cd-35041603490f",
   "metadata": {},
   "source": [
    "## 1.Manuálne vytvorenie a vyhodnotenie rozhodovacích pravidiel pre klasifikáciu\n",
    "Naimplementujte 1R algorithm (1R or OneR), ktorý je jednoduchá klasifikácia t.j. rozhodnutie na základe jedného atribútu. Môžete implementovať komplikovanejšie t.j. zahŕňajúce viacero atribútov (ich kombinácie).\n",
    "Pravidlá by v tomto kroku mali byť vytvorené manuálne na základe pozorovaných závislostí v dátach. Vyhodnoťte klasifikátor pomocou metrík accuracy, precision a recall.\n"
   ]
  },
  {
   "cell_type": "markdown",
   "id": "5d753641-838c-43de-bd60-e0acfb747682",
   "metadata": {
    "tags": []
   },
   "source": [
    "Pseudokod k algoritmu OneR\n",
    "# For each attribute\n",
    "#     For each value of that attribute, make a rule as follows:\n",
    "#         Count how often each value of the target class appears\n",
    "#         Find the most frequent class\n",
    "#         Make the rule assign that class to this value of the attribute\n",
    "#     Calculate the total error of the rules of each attribute\n",
    "# Choose the attribute with the smallest total error."
   ]
  },
  {
   "cell_type": "code",
   "execution_count": null,
   "id": "4eedae0e-d1f9-4f84-89ed-ca3d01f2c0f3",
   "metadata": {},
   "outputs": [],
   "source": []
  },
  {
   "cell_type": "markdown",
   "id": "6bb2f435-d806-43eb-8b7c-97d145c8abb8",
   "metadata": {},
   "source": [
    "## 2. Natrénovanie a vyhodnotenie klasifikátora strojového učenia\n",
    "Na trénovanie využite minimálne jeden stromový algoritmus strojového učenia v scikit-learn.\n",
    "Vizualizujte natrénované pravidlá.\n",
    "Vyhodnoťte natrénovaný model pomocou metrík accuracy, precision a recall\n",
    "Porovnajte natrénovaný klasifikátor s Vašimi manuálne vytvorenými pravidlami z prvého kroku.\n"
   ]
  },
  {
   "cell_type": "code",
   "execution_count": null,
   "id": "4d50d43c-8a11-455c-93a5-ee8e9940ec80",
   "metadata": {},
   "outputs": [],
   "source": []
  },
  {
   "cell_type": "markdown",
   "id": "7ae072b6-6fc9-4ccb-b8ee-633ae828c7a2",
   "metadata": {
    "tags": []
   },
   "source": [
    "## 3. Optimalizácia - hyperparameter tuning\n",
    "Preskúmajte hyperparametre Vášho zvoleného klasifikačného algoritmu v druhom kroku a vyskúšajte ich rôzne nastavenie tak, aby ste minimalizovali overfitting (preučenie) a optimalizovali výsledok. \n",
    "Vysvetlite, čo jednotlivé hyperparametre robia. Pri nastavovaní hyperparametrov algoritmu využite krížovú validáciu (cross validation) na trénovacej množine."
   ]
  },
  {
   "cell_type": "code",
   "execution_count": null,
   "id": "b908824d-3e74-4c55-9195-60b61a74c761",
   "metadata": {},
   "outputs": [],
   "source": []
  },
  {
   "cell_type": "markdown",
   "id": "0531d5c5-9704-439d-b01a-04655214fa31",
   "metadata": {
    "tags": []
   },
   "source": [
    "## 4. Vyhodnotenie vplyvu zvolenej stratégie riešenia na klasifikáciu\n",
    "Vyhodnotíte Vami zvolené stratégie riešenia projektu z hľadiska classification accuracy: \n",
    "\n",
    "Stratégie riešenia chýbajúcich hodnôt a outlierov;\n",
    "Scaling resp. transformer či zlepší accuracy klasifikácie;W\n",
    "Výber atribútov a výber algoritmov;\n",
    "Hyperparameter tuning resp. ensemble learning.\n",
    "Ktorý spôsob z každého hore-uvedených bodov sa ukázal ako vhodnejší pre daný problém? Vyhodnotenie podložíte dôkazmi."
   ]
  },
  {
   "cell_type": "code",
   "execution_count": null,
   "id": "80ac98f9-1aee-4e55-99f6-b14e2b55dbcc",
   "metadata": {},
   "outputs": [],
   "source": []
  }
 ],
 "metadata": {
  "kernelspec": {
   "display_name": "Python 3 (ipykernel)",
   "language": "python",
   "name": "python3"
  },
  "language_info": {
   "codemirror_mode": {
    "name": "ipython",
    "version": 3
   },
   "file_extension": ".py",
   "mimetype": "text/x-python",
   "name": "python",
   "nbconvert_exporter": "python",
   "pygments_lexer": "ipython3",
   "version": "3.8.10"
  }
 },
 "nbformat": 4,
 "nbformat_minor": 5
}
