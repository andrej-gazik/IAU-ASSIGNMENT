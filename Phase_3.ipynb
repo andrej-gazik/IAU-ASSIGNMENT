{
 "cells": [
  {
   "cell_type": "code",
   "execution_count": 29,
   "id": "fc8e1c5c-fd20-4413-b615-8e3d4226ee27",
   "metadata": {},
   "outputs": [],
   "source": [
    "import matplotlib.pyplot as plt\n",
    "import seaborn as sns\n",
    "import pandas as pd\n",
    "import numpy as np\n",
    "import scipy.stats as stats\n",
    "import statsmodels.api as sm\n",
    "import statsmodels.stats.api as sms\n",
    "import scipy.stats as stats\n",
    "from sklearn import preprocessing\n",
    "from datetime import datetime\n",
    "from datetime import date"
   ]
  },
  {
   "cell_type": "code",
   "execution_count": 46,
   "id": "d0308522-9971-446e-81db-74a9b84d731f",
   "metadata": {},
   "outputs": [],
   "source": [
    "# Load test and train from phase 2\n",
    "test = pd.read_csv('dataset/test.csv')\n",
    "train = pd.read_csv('dataset/train.csv')"
   ]
  },
  {
   "cell_type": "markdown",
   "id": "6e74c0ea-c566-4a73-b8e9-ded0eff20a49",
   "metadata": {},
   "source": [
    "# Fáza 3 - Strojové učenie\n"
   ]
  },
  {
   "cell_type": "markdown",
   "id": "8dde95a7-32d8-4df1-98cd-35041603490f",
   "metadata": {},
   "source": [
    "## 1.Manuálne vytvorenie a vyhodnotenie rozhodovacích pravidiel pre klasifikáciu\n",
    "Naimplementujte 1R algorithm (1R or OneR), ktorý je jednoduchá klasifikácia t.j. rozhodnutie na základe jedného atribútu. Môžete implementovať komplikovanejšie t.j. zahŕňajúce viacero atribútov (ich kombinácie).\n",
    "Pravidlá by v tomto kroku mali byť vytvorené manuálne na základe pozorovaných závislostí v dátach. Vyhodnoťte klasifikátor pomocou metrík accuracy, precision a recall.\n"
   ]
  },
  {
   "cell_type": "markdown",
   "id": "5d753641-838c-43de-bd60-e0acfb747682",
   "metadata": {
    "tags": []
   },
   "source": [
    "Pseudokod k algoritmu OneR\n",
    "# For each attribute\n",
    "#     For each value of that attribute, make a rule as follows:\n",
    "#         Count how often each value of the target class appears\n",
    "#         Find the most frequent class\n",
    "#         Make the rule assign that class to this value of the attribute\n",
    "#     Calculate the total error of the rules of each attribute\n",
    "# Choose the attribute with the smallest total error."
   ]
  },
  {
   "cell_type": "code",
   "execution_count": 25,
   "id": "4eedae0e-d1f9-4f84-89ed-ca3d01f2c0f3",
   "metadata": {},
   "outputs": [
    {
     "name": "stdout",
     "output_type": "stream",
     "text": [
      "leukocyty\n",
      "0.6549800796812749\n",
      "0.6549800796812749\n",
      "leukocyty\n",
      "0.4146717155509916\n",
      "trombocyty\n",
      "0.7479091995221028\n",
      "0.7479091995221028\n",
      "trombocyty\n",
      "0.9340338160092287\n",
      "alp\n",
      "0.643879173290938\n",
      "0.7479091995221028\n",
      "trombocyty\n",
      "0.9340338160092287\n",
      "hbver\n",
      "0.6471758154335719\n",
      "0.7479091995221028\n",
      "trombocyty\n",
      "0.9340338160092287\n",
      "hemoglobin\n",
      "0.6571087216248507\n",
      "0.7479091995221028\n",
      "trombocyty\n",
      "0.9340338160092287\n",
      "0.7479091995221028\n",
      "trombocyty\n",
      "0.9340338160092287\n"
     ]
    }
   ],
   "source": [
    "overall_best_acc = 0\n",
    "overall_best_column = None\n",
    "overall_best_predictor = None\n",
    "\n",
    "for column in ['leukocyty', 'trombocyty', 'alp', 'hbver', 'hemoglobin']:\n",
    "    print(column)\n",
    "    data = train[[column, 'indicator']]\n",
    "    sorted_data = data.drop_duplicates([column], keep='last').sort_values(column)\n",
    "    length = len(sorted_data)\n",
    "\n",
    "    best_acc = 0\n",
    "    best_column = None\n",
    "    best_predictor = None\n",
    "    for i in range(1, length):\n",
    "        ind_one_left = 0\n",
    "        ind_zero_left = 0\n",
    "\n",
    "        ind_one_right = 0\n",
    "        ind_zero_right = 0\n",
    "\n",
    "        pom = 0\n",
    "        for index, row in sorted_data.iterrows():\n",
    "            if pom < i:\n",
    "                if row['indicator'] == 1.0:\n",
    "                    ind_one_left += 1\n",
    "                else:\n",
    "                    ind_zero_left += 1\n",
    "            else:\n",
    "                if row['indicator'] == 0.0:\n",
    "                    ind_zero_right += 1\n",
    "                else:\n",
    "                    ind_one_right += 1\n",
    "            pom += 1\n",
    "\n",
    "        acc_one_left = ind_one_left + ind_zero_right\n",
    "        acc_zero_left = ind_zero_left + ind_one_right\n",
    "        acc = acc_one_left / length if acc_one_left / length >= acc_zero_left / length else acc_zero_left / length\n",
    "\n",
    "        if best_acc < acc:\n",
    "            best_acc = acc\n",
    "            best_column = column\n",
    "            best_predictor = train.at[i+1, column]\n",
    "\n",
    "    if overall_best_acc <= best_acc:\n",
    "        overall_best_acc = best_acc\n",
    "        overall_best_column = best_column\n",
    "        overall_best_predictor = best_predictor\n",
    "\n",
    "    print(best_acc)\n",
    "    print(overall_best_acc)\n",
    "    print(overall_best_column)\n",
    "    print(overall_best_predictor)\n",
    "print(overall_best_acc)\n",
    "print(overall_best_column)\n",
    "print(overall_best_predictor)\n"
   ]
  },
  {
   "cell_type": "markdown",
   "id": "6bb2f435-d806-43eb-8b7c-97d145c8abb8",
   "metadata": {},
   "source": [
    "## 2. Natrénovanie a vyhodnotenie klasifikátora strojového učenia\n",
    "Na trénovanie využite minimálne jeden stromový algoritmus strojového učenia v scikit-learn.\n",
    "Vizualizujte natrénované pravidlá.\n",
    "Vyhodnoťte natrénovaný model pomocou metrík accuracy, precision a recall\n",
    "Porovnajte natrénovaný klasifikátor s Vašimi manuálne vytvorenými pravidlami z prvého kroku.\n"
   ]
  },
  {
   "cell_type": "code",
   "execution_count": 35,
   "id": "748a68bd-ce70-47a0-847b-a0f866e7e5d5",
   "metadata": {
    "tags": []
   },
   "outputs": [],
   "source": [
    "import pandas as pd\n",
    "from sklearn.tree import DecisionTreeClassifier\n",
    "from sklearn.model_selection import train_test_split\n",
    "from sklearn import metrics\n",
    "from six import StringIO\n",
    "from IPython.display import Image\n",
    "from sklearn.tree import export_graphviz\n",
    "from sklearn.metrics import classification_report\n",
    "import pydotplus"
   ]
  },
  {
   "cell_type": "code",
   "execution_count": 50,
   "id": "22388cf7-dae9-4ef9-bd33-e1ce6ccae292",
   "metadata": {},
   "outputs": [],
   "source": [
    "feature_cols\n",
    "X = train.drop(columns=['ssn', 'indicator'])\n",
    "y = train.indicator"
   ]
  },
  {
   "cell_type": "code",
   "execution_count": 51,
   "id": "f2662872-fb91-4211-ac7c-7e10bdc15a38",
   "metadata": {},
   "outputs": [],
   "source": [
    "X_train, X_test, y_train, y_test = train_test_split(X, y, test_size=0.3, random_state=1)"
   ]
  },
  {
   "cell_type": "code",
   "execution_count": 52,
   "id": "4d50d43c-8a11-455c-93a5-ee8e9940ec80",
   "metadata": {},
   "outputs": [
    {
     "name": "stdout",
     "output_type": "stream",
     "text": [
      "Accuracy: 0.8656126482213439\n",
      "              precision    recall  f1-score   support\n",
      "\n",
      "         0.0       0.80      0.80      0.80       253\n",
      "         1.0       0.90      0.90      0.90       506\n",
      "\n",
      "    accuracy                           0.87       759\n",
      "   macro avg       0.85      0.85      0.85       759\n",
      "weighted avg       0.87      0.87      0.87       759\n",
      "\n"
     ]
    }
   ],
   "source": [
    "# Create Decision Tree classifer object\n",
    "clf = DecisionTreeClassifier(criterion=\"entropy\", random_state=0)\n",
    "\n",
    "# Train Decision Tree Classifer\n",
    "clf = clf.fit(X_train, y_train)\n",
    "\n",
    "#Predict the response for test dataset\n",
    "pred = clf.predict(X_test)\n",
    "\n",
    "# Model Accuracy, how often is the classifier correct?\n",
    "print(\"Accuracy:\",metrics.accuracy_score(y_test, pred))\n",
    "print(classification_report(y_test, pred))"
   ]
  },
  {
   "cell_type": "markdown",
   "id": "7ae072b6-6fc9-4ccb-b8ee-633ae828c7a2",
   "metadata": {
    "tags": []
   },
   "source": [
    "## 3. Optimalizácia - hyperparameter tuning\n",
    "Preskúmajte hyperparametre Vášho zvoleného klasifikačného algoritmu v druhom kroku a vyskúšajte ich rôzne nastavenie tak, aby ste minimalizovali overfitting (preučenie) a optimalizovali výsledok. \n",
    "Vysvetlite, čo jednotlivé hyperparametre robia. Pri nastavovaní hyperparametrov algoritmu využite krížovú validáciu (cross validation) na trénovacej množine."
   ]
  },
  {
   "cell_type": "code",
   "execution_count": null,
   "id": "b908824d-3e74-4c55-9195-60b61a74c761",
   "metadata": {},
   "outputs": [],
   "source": []
  },
  {
   "cell_type": "markdown",
   "id": "0531d5c5-9704-439d-b01a-04655214fa31",
   "metadata": {
    "tags": []
   },
   "source": [
    "## 4. Vyhodnotenie vplyvu zvolenej stratégie riešenia na klasifikáciu\n",
    "Vyhodnotíte Vami zvolené stratégie riešenia projektu z hľadiska classification accuracy: \n",
    "\n",
    "Stratégie riešenia chýbajúcich hodnôt a outlierov;\n",
    "Scaling resp. transformer či zlepší accuracy klasifikácie;W\n",
    "Výber atribútov a výber algoritmov;\n",
    "Hyperparameter tuning resp. ensemble learning.\n",
    "Ktorý spôsob z každého hore-uvedených bodov sa ukázal ako vhodnejší pre daný problém? Vyhodnotenie podložíte dôkazmi."
   ]
  },
  {
   "cell_type": "code",
   "execution_count": null,
   "id": "80ac98f9-1aee-4e55-99f6-b14e2b55dbcc",
   "metadata": {},
   "outputs": [],
   "source": []
  }
 ],
 "metadata": {
  "kernelspec": {
   "display_name": "Python 3 (ipykernel)",
   "language": "python",
   "name": "python3"
  },
  "language_info": {
   "codemirror_mode": {
    "name": "ipython",
    "version": 3
   },
   "file_extension": ".py",
   "mimetype": "text/x-python",
   "name": "python",
   "nbconvert_exporter": "python",
   "pygments_lexer": "ipython3",
   "version": "3.9.6"
  }
 },
 "nbformat": 4,
 "nbformat_minor": 5
}
