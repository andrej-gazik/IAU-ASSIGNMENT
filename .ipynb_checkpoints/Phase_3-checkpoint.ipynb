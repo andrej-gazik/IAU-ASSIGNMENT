{
 "cells": [
  {
   "cell_type": "markdown",
   "id": "6e74c0ea-c566-4a73-b8e9-ded0eff20a49",
   "metadata": {},
   "source": [
    "# Fáza 3 - Strojové učenie\n"
   ]
  },
  {
   "cell_type": "markdown",
   "id": "8dde95a7-32d8-4df1-98cd-35041603490f",
   "metadata": {},
   "source": [
    "## 1.Manuálne vytvorenie a vyhodnotenie rozhodovacích pravidiel pre klasifikáciu\n",
    "Naimplementujte 1R algorithm (1R or OneR), ktorý je jednoduchá klasifikácia t.j. rozhodnutie na základe jedného atribútu. Môžete implementovať komplikovanejšie t.j. zahŕňajúce viacero atribútov (ich kombinácie).\n",
    "Pravidlá by v tomto kroku mali byť vytvorené manuálne na základe pozorovaných závislostí v dátach. Vyhodnoťte klasifikátor pomocou metrík accuracy, precision a recall.\n"
   ]
  },
  {
   "cell_type": "markdown",
   "id": "6bb2f435-d806-43eb-8b7c-97d145c8abb8",
   "metadata": {},
   "source": [
    "## 2. Natrénovanie a vyhodnotenie klasifikátora strojového učenia\n",
    "Na trénovanie využite minimálne jeden stromový algoritmus strojového učenia v scikit-learn.\n",
    "Vizualizujte natrénované pravidlá.\n",
    "Vyhodnoťte natrénovaný model pomocou metrík accuracy, precision a recall\n",
    "Porovnajte natrénovaný klasifikátor s Vašimi manuálne vytvorenými pravidlami z prvého kroku.\n"
   ]
  },
  {
   "cell_type": "markdown",
   "id": "7ae072b6-6fc9-4ccb-b8ee-633ae828c7a2",
   "metadata": {},
   "source": [
    "## 3. Optimalizácia - hyperparameter tuning\n",
    "Preskúmajte hyperparametre Vášho zvoleného klasifikačného algoritmu v druhom kroku a vyskúšajte ich rôzne nastavenie tak, aby ste minimalizovali overfitting (preučenie) a optimalizovali výsledok. \n",
    "Vysvetlite, čo jednotlivé hyperparametre robia. Pri nastavovaní hyperparametrov algoritmu využite krížovú validáciu (cross validation) na trénovacej množine."
   ]
  },
  {
   "cell_type": "markdown",
   "id": "0531d5c5-9704-439d-b01a-04655214fa31",
   "metadata": {},
   "source": [
    "## 4. Vyhodnotenie vplyvu zvolenej stratégie riešenia na klasifikáciu\n",
    "Vyhodnotíte Vami zvolené stratégie riešenia projektu z hľadiska classification accuracy: \n",
    "\n",
    "Stratégie riešenia chýbajúcich hodnôt a outlierov;\n",
    "Scaling resp. transformer či zlepší accuracy klasifikácie;W\n",
    "Výber atribútov a výber algoritmov;\n",
    "Hyperparameter tuning resp. ensemble learning.\n",
    "Ktorý spôsob z každého hore-uvedených bodov sa ukázal ako vhodnejší pre daný problém? Vyhodnotenie podložíte dôkazmi."
   ]
  },
  {
   "cell_type": "code",
   "execution_count": null,
   "id": "018fe94d-cb2a-4a0b-807a-34f15d968cf2",
   "metadata": {},
   "outputs": [],
   "source": []
  },
  {
   "cell_type": "code",
   "execution_count": null,
   "id": "c7b58569-5f12-4955-b14f-0e0a98a1b89f",
   "metadata": {},
   "outputs": [],
   "source": []
  },
  {
   "cell_type": "code",
   "execution_count": null,
   "id": "29ad737d-3fd8-4e11-a45e-1372f664d8fe",
   "metadata": {},
   "outputs": [],
   "source": []
  },
  {
   "cell_type": "code",
   "execution_count": null,
   "id": "56392695-aa28-410a-b051-851511bcb5bb",
   "metadata": {},
   "outputs": [],
   "source": []
  }
 ],
 "metadata": {
  "kernelspec": {
   "display_name": "venv",
   "language": "python",
   "name": "venv"
  },
  "language_info": {
   "codemirror_mode": {
    "name": "ipython",
    "version": 3
   },
   "file_extension": ".py",
   "mimetype": "text/x-python",
   "name": "python",
   "nbconvert_exporter": "python",
   "pygments_lexer": "ipython3",
   "version": "3.8.10"
  }
 },
 "nbformat": 4,
 "nbformat_minor": 5
}
